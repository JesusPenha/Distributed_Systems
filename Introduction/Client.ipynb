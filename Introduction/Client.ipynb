{
 "cells": [
  {
   "cell_type": "markdown",
   "id": "ffd7cf11",
   "metadata": {},
   "source": [
    "# Cliente"
   ]
  },
  {
   "cell_type": "markdown",
   "id": "8281710b",
   "metadata": {},
   "source": [
    "Código para la creación del cliente. El script crea un objeto socket, lo conecta usando **.connect()** y y envía un mensaje al servidor usando **s.sendall()**. Luego, el cliente usa **s.recv()** para recibir la respuesta del servidor y la imprime."
   ]
  },
  {
   "cell_type": "code",
   "execution_count": 9,
   "id": "72af41a5",
   "metadata": {},
   "outputs": [],
   "source": [
    "import socket"
   ]
  },
  {
   "cell_type": "code",
   "execution_count": 15,
   "id": "ae34045f",
   "metadata": {},
   "outputs": [
    {
     "name": "stdout",
     "output_type": "stream",
     "text": [
      "Received b'Hola Mundo'\n"
     ]
    }
   ],
   "source": [
    "HOST = \"127.0.0.1\"  # Nombre del servidor o direccion IP\n",
    "PORT = 65432  # Puerto usado por el servidor\n",
    "\n",
    "with socket.socket(socket.AF_INET, socket.SOCK_STREAM) as s:\n",
    "    s.connect((HOST, PORT))\n",
    "    s.sendall(b\"Hola Mundo\")\n",
    "    data = s.recv(1024)\n",
    "\n",
    "print(f\"Received {data!r}\")"
   ]
  },
  {
   "cell_type": "code",
   "execution_count": null,
   "id": "56cb044d",
   "metadata": {},
   "outputs": [],
   "source": []
  }
 ],
 "metadata": {
  "kernelspec": {
   "display_name": "Python3.8",
   "language": "python",
   "name": "python3.8"
  },
  "language_info": {
   "codemirror_mode": {
    "name": "ipython",
    "version": 3
   },
   "file_extension": ".py",
   "mimetype": "text/x-python",
   "name": "python",
   "nbconvert_exporter": "python",
   "pygments_lexer": "ipython3",
   "version": "3.8.0"
  }
 },
 "nbformat": 4,
 "nbformat_minor": 5
}
