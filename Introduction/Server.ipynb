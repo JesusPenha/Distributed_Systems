{
 "cells": [
  {
   "cell_type": "markdown",
   "id": "cee3b187",
   "metadata": {},
   "source": [
    "# Servidor"
   ]
  },
  {
   "cell_type": "markdown",
   "id": "a1363dde",
   "metadata": {},
   "source": [
    "Código para la creación del servidor. Se crea un objeto socket mediante **socket.socket()**. Sus argumentos son la familia de la dirección (AF_INET) y el tipo de socket (SOCK_STREAM). El método **.bind()** asocia el socket con una interface de red y un número de puerto. **HOST** es el nombre del servidor o direccion IP y **PORT** es el número de puerto.\n",
    "\n",
    "El método **.listen()** habilita al servidor para aceptar conexiones. Luego, **.accept()** bloquea la ejecución y espera alguna conexión. Una vez un cliente se conecta mediante el objeto **conn**, el servidor lee los datos enviados desde el cliente usando **conn.recv()** y retorna la información usando **conn.sendall()**."
   ]
  },
  {
   "cell_type": "code",
   "execution_count": 1,
   "id": "238ffce8",
   "metadata": {},
   "outputs": [],
   "source": [
    "import socket"
   ]
  },
  {
   "cell_type": "code",
   "execution_count": 6,
   "id": "de38ff44",
   "metadata": {},
   "outputs": [
    {
     "name": "stdout",
     "output_type": "stream",
     "text": [
      "Conectado por ('127.0.0.1', 56694)\n"
     ]
    }
   ],
   "source": [
    "HOST = \"127.0.0.1\"  # Nombre del servidor o direccion IP\n",
    "PORT = 65432  # Puerto usado por el servidor\n",
    "\n",
    "with socket.socket(socket.AF_INET, socket.SOCK_STREAM) as s:\n",
    "    s.bind((HOST, PORT))\n",
    "    s.listen()\n",
    "    conn, addr = s.accept()\n",
    "    with conn:\n",
    "        print(f\"Conectado por {addr}\")\n",
    "        while True:\n",
    "            data = conn.recv(1024)\n",
    "            if not data:\n",
    "                break\n",
    "            conn.sendall(data)"
   ]
  },
  {
   "cell_type": "code",
   "execution_count": null,
   "id": "ad3e1d77",
   "metadata": {},
   "outputs": [],
   "source": []
  }
 ],
 "metadata": {
  "kernelspec": {
   "display_name": "Python3.8",
   "language": "python",
   "name": "python3.8"
  },
  "language_info": {
   "codemirror_mode": {
    "name": "ipython",
    "version": 3
   },
   "file_extension": ".py",
   "mimetype": "text/x-python",
   "name": "python",
   "nbconvert_exporter": "python",
   "pygments_lexer": "ipython3",
   "version": "3.8.0"
  }
 },
 "nbformat": 4,
 "nbformat_minor": 5
}
